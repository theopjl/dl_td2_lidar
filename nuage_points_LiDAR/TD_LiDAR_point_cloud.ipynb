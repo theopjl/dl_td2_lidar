{
 "cells": [
  {
   "cell_type": "markdown",
   "id": "721e61c4",
   "metadata": {},
   "source": [
    "### Lab session: representing a digital surface model with a neural network"
   ]
  },
  {
   "cell_type": "code",
   "execution_count": 2,
   "id": "8ee80419",
   "metadata": {},
   "outputs": [
    {
     "ename": "ModuleNotFoundError",
     "evalue": "No module named 'pdal'",
     "output_type": "error",
     "traceback": [
      "\u001b[1;31m---------------------------------------------------------------------------\u001b[0m",
      "\u001b[1;31mModuleNotFoundError\u001b[0m                       Traceback (most recent call last)",
      "Cell \u001b[1;32mIn[2], line 11\u001b[0m\n\u001b[0;32m      1\u001b[0m pipeline \u001b[38;5;241m=\u001b[39m \u001b[38;5;124m\"\"\"\u001b[39m\n\u001b[0;32m      2\u001b[0m \u001b[38;5;124m[\u001b[39m\n\u001b[0;32m      3\u001b[0m \u001b[38;5;124m    \u001b[39m\u001b[38;5;124m\"\u001b[39m\u001b[38;5;124mLHD_FXX_0808_6485_PTS_C_LAMB93_IGN69.copc.laz\u001b[39m\u001b[38;5;124m\"\u001b[39m\u001b[38;5;124m,\u001b[39m\n\u001b[1;32m   (...)\u001b[0m\n\u001b[0;32m      8\u001b[0m \u001b[38;5;124m]\u001b[39m\n\u001b[0;32m      9\u001b[0m \u001b[38;5;124m\"\"\"\u001b[39m\n\u001b[1;32m---> 11\u001b[0m \u001b[38;5;28;01mimport\u001b[39;00m\u001b[38;5;250m \u001b[39m\u001b[38;5;21;01mpdal\u001b[39;00m\n\u001b[0;32m     12\u001b[0m r \u001b[38;5;241m=\u001b[39m pdal\u001b[38;5;241m.\u001b[39mPipeline(pipeline)\n\u001b[0;32m     13\u001b[0m \u001b[38;5;66;03m#r.validate()\u001b[39;00m\n",
      "\u001b[1;31mModuleNotFoundError\u001b[0m: No module named 'pdal'"
     ]
    }
   ],
   "source": [
    "pipeline = \"\"\"\n",
    "[\n",
    "    \"LHD_FXX_0808_6485_PTS_C_LAMB93_IGN69.copc.laz\",\n",
    "    {\n",
    "        \"type\": \"filters.sort\",\n",
    "        \"dimension\": \"Z\"\n",
    "    }\n",
    "]\n",
    "\"\"\"\n",
    "\n",
    "import pdal\n",
    "r = pdal.Pipeline(pipeline)\n",
    "#r.validate()\n",
    "r.execute()\n",
    "arrays = r.arrays\n"
   ]
  },
  {
   "cell_type": "code",
   "execution_count": null,
   "id": "d6181731",
   "metadata": {},
   "outputs": [],
   "source": [
    "import numpy as np\n",
    "\n",
    "N = arrays[0].shape[0]\n",
    "X = np.zeros(N,)\n",
    "Y = np.zeros(N,)\n",
    "Z = np.zeros(N,)\n",
    "I = np.zeros(N,)\n",
    "\n",
    "for n in range(N):\n",
    "    pt = arrays[0][n]\n",
    "    X[n] = pt[0]\n",
    "    Y[n] = pt[1]\n",
    "    Z[n] = pt[2]\n",
    "    I[n] = pt[3]\n",
    "\n",
    "print(len(X[::100]))"
   ]
  },
  {
   "cell_type": "code",
   "execution_count": null,
   "id": "b6e4354b",
   "metadata": {},
   "outputs": [],
   "source": [
    "%matplotlib ipympl\n",
    "#%matplotlib widget"
   ]
  },
  {
   "cell_type": "code",
   "execution_count": null,
   "id": "4e4cf6e8",
   "metadata": {},
   "outputs": [],
   "source": [
    "import matplotlib.pyplot as plt\n",
    "\n",
    "fig = plt.figure(1)\n",
    "ax = fig.add_subplot(projection='3d')\n",
    "ax.scatter(X[::100], Y[::100], Z[::100], c=Z[::100], marker='o', s=1)\n",
    "\n",
    "ax.set_xlabel('X')\n",
    "ax.set_ylabel('Y')\n",
    "ax.set_zlabel('Z')\n",
    "\n",
    "plt.show()"
   ]
  },
  {
   "cell_type": "code",
   "execution_count": null,
   "id": "91611ab9",
   "metadata": {},
   "outputs": [],
   "source": [
    "selx = (X>808305)*(X<808538)\n",
    "sely = (Y>6484516)*(Y<6484626)\n",
    "sel = selx*sely\n",
    "\n",
    "I[I>10000] = 10000 #np.max(I[I!=np.max(I)])"
   ]
  },
  {
   "cell_type": "code",
   "execution_count": null,
   "id": "04d5125c",
   "metadata": {},
   "outputs": [],
   "source": [
    "fig = plt.figure(2)\n",
    "ax = fig.add_subplot(projection='3d')\n",
    "ax.scatter(X[sel], Y[sel], Z[sel], c=I[sel], marker='o', s=1, cmap='gray')\n",
    "\n",
    "ax.set_xlabel('X')\n",
    "ax.set_ylabel('Y')\n",
    "ax.set_zlabel('Z')\n",
    "ax.set_aspect('equal')\n",
    "\n",
    "plt.show()"
   ]
  },
  {
   "cell_type": "code",
   "execution_count": null,
   "id": "2fa26921",
   "metadata": {},
   "outputs": [],
   "source": [
    "Xsel = X[sel]\n",
    "Ysel = Y[sel]\n",
    "Zsel = Z[sel]\n",
    "Isel = I[sel]\n",
    "Nsel = Xsel.shape[0]\n",
    "\n",
    "Nsmall = 50000\n",
    "pts = np.rint(np.linspace(Nsel/(2*(Nsmall-1)),Nsel-Nsel/(2*(Nsmall-1)),num=Nsmall)+(np.random.rand(Nsmall)-.5)*Nsel/(Nsmall-1)).astype(np.int32)-1\n",
    "\n",
    "Xsmall = Xsel[pts]\n",
    "Ysmall = Ysel[pts]\n",
    "Zsmall = Zsel[pts]\n",
    "Ismall = Isel[pts]"
   ]
  },
  {
   "cell_type": "code",
   "execution_count": null,
   "id": "6b0a305b",
   "metadata": {},
   "outputs": [],
   "source": [
    "Ismall[Ismall==np.max(Ismall)] = np.max(Ismall[Ismall!=np.max(Ismall)])"
   ]
  },
  {
   "cell_type": "code",
   "execution_count": null,
   "id": "834fd3cc",
   "metadata": {},
   "outputs": [],
   "source": [
    "from mpl_toolkits.mplot3d import Axes3D\n",
    "\n",
    "fig = plt.figure()\n",
    "ax = fig.add_subplot(projection='3d')\n",
    "# ax.scatter(Xsmall, Ysmall, Zsmall, c=Ismall.astype(np.float64), marker='o', s=1)\n",
    "# ax.scatter(Xsmall, Ysmall, Zsmall, c=(Ismall.astype(np.float64)-np.min(Ismall))/(np.max(Ismall)-np.min(Ismall)), marker='o', s=1,cmap='gray')\n",
    "ax.scatter(Xsmall, Ysmall, Zsmall, c=(Ismall.astype(np.float64))/np.max(Ismall), marker='o', s=1,cmap='gray')\n",
    "\n",
    "ax.set_xlabel('X')\n",
    "ax.set_ylabel('Y')\n",
    "ax.set_zlabel('Z')\n",
    "ax.set_aspect('equal')\n",
    "\n",
    "plt.show()"
   ]
  },
  {
   "cell_type": "code",
   "execution_count": 3,
   "id": "ad2eaf9b",
   "metadata": {},
   "outputs": [
    {
     "ename": "ModuleNotFoundError",
     "evalue": "No module named 'torch'",
     "output_type": "error",
     "traceback": [
      "\u001b[1;31m---------------------------------------------------------------------------\u001b[0m",
      "\u001b[1;31mModuleNotFoundError\u001b[0m                       Traceback (most recent call last)",
      "Cell \u001b[1;32mIn[3], line 1\u001b[0m\n\u001b[1;32m----> 1\u001b[0m \u001b[38;5;28;01mimport\u001b[39;00m\u001b[38;5;250m \u001b[39m\u001b[38;5;21;01mtorch\u001b[39;00m\n\u001b[0;32m      3\u001b[0m h \u001b[38;5;241m=\u001b[39m torch\u001b[38;5;241m.\u001b[39mrand(\u001b[38;5;241m5\u001b[39m,\u001b[38;5;241m3\u001b[39m)\n\u001b[0;32m      5\u001b[0m \u001b[38;5;28mprint\u001b[39m(h)\n",
      "\u001b[1;31mModuleNotFoundError\u001b[0m: No module named 'torch'"
     ]
    }
   ],
   "source": [
    "import torch\n",
    "\n",
    "h = torch.rand(5,3)\n",
    "\n",
    "print(h)"
   ]
  }
 ],
 "metadata": {
  "kernelspec": {
   "display_name": "dlenv",
   "language": "python",
   "name": "python3"
  },
  "language_info": {
   "codemirror_mode": {
    "name": "ipython",
    "version": 3
   },
   "file_extension": ".py",
   "mimetype": "text/x-python",
   "name": "python",
   "nbconvert_exporter": "python",
   "pygments_lexer": "ipython3",
   "version": "3.13.5"
  }
 },
 "nbformat": 4,
 "nbformat_minor": 5
}
